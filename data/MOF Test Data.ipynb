{
 "cells": [
  {
   "cell_type": "markdown",
   "id": "44955e76-b444-4067-b2c3-693e082cd9a9",
   "metadata": {},
   "source": [
    "# Marburg Open Forest (MOF) data set"
   ]
  },
  {
   "cell_type": "markdown",
   "id": "167aef11-6d1e-4077-86a0-ba980fa902c5",
   "metadata": {},
   "source": [
    "The **Marburg Open Forest** data set consists of a collection of 2117 images showing 18 animal species.\n",
    "\n",
    "The `img` folder contains the images grouped in subfolders by recording date and camera trap id. The `md` folder contains the metadata which constists of the bounding box detections for each image. The metadata is grouped into yaml-files for each species."
   ]
  },
  {
   "cell_type": "markdown",
   "id": "290c61a5-ef98-4d0c-938b-1f047eec625b",
   "metadata": {},
   "source": [
    "### Imports"
   ]
  },
  {
   "cell_type": "code",
   "execution_count": 2,
   "id": "d8e08e3d-f3d2-4d99-9731-b7a0816d824b",
   "metadata": {},
   "outputs": [],
   "source": [
    "import glob\n",
    "import yaml"
   ]
  },
  {
   "cell_type": "markdown",
   "id": "a38cf61c-00e6-4a79-82a3-af4ec8696942",
   "metadata": {},
   "source": [
    "### Download and extract the Marburg Open Forest (MOF) data set"
   ]
  },
  {
   "cell_type": "code",
   "execution_count": 6,
   "id": "791d95b4-fc25-482a-b031-777683fe14fc",
   "metadata": {},
   "outputs": [
    {
     "name": "stdout",
     "output_type": "stream",
     "text": [
      "MOF data set already downloaded...\n"
     ]
    }
   ],
   "source": [
    "!\"./data_download.sh\""
   ]
  },
  {
   "cell_type": "markdown",
   "id": "7223eb19-cf4e-4c01-ab7c-6c3be2aaa303",
   "metadata": {},
   "source": [
    "### Check for Completeness"
   ]
  },
  {
   "cell_type": "code",
   "execution_count": 3,
   "id": "ad17bbdc-e7c9-46c0-b29e-4f1bf1975919",
   "metadata": {},
   "outputs": [],
   "source": [
    "imgs = glob.glob(\"MOF/img/**/*.JPG\", recursive=True)\n",
    "assert len(imgs) == 2117, f\"{2117 - len(imgs)} missing image files\""
   ]
  },
  {
   "cell_type": "code",
   "execution_count": 4,
   "id": "18005f88-a668-468b-a5e4-b91866ae910a",
   "metadata": {},
   "outputs": [],
   "source": [
    "mds = glob.glob(\"MOF/md/**/*.yaml\", recursive=True)\n",
    "assert len(mds) == 19, f\"{19 - len(mds)} missing md files\""
   ]
  },
  {
   "cell_type": "code",
   "execution_count": 5,
   "id": "caf93801-48c6-4f9e-80c7-64766a041915",
   "metadata": {},
   "outputs": [],
   "source": [
    "meta_count = 0\n",
    "for md in mds:\n",
    "    with open(md) as f:\n",
    "        meta = yaml.load(f, yaml.SafeLoader)\n",
    "        meta_count += len(meta['images'])\n",
    "assert meta_count == 2402, f\"{2402 - meta_count} missing md entries\""
   ]
  }
 ],
 "metadata": {
  "kernelspec": {
   "display_name": "Python 3",
   "language": "python",
   "name": "python3"
  },
  "language_info": {
   "codemirror_mode": {
    "name": "ipython",
    "version": 3
   },
   "file_extension": ".py",
   "mimetype": "text/x-python",
   "name": "python",
   "nbconvert_exporter": "python",
   "pygments_lexer": "ipython3",
   "version": "3.8.10"
  }
 },
 "nbformat": 4,
 "nbformat_minor": 5
}
