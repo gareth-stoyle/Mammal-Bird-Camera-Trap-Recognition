{
 "cells": [
  {
   "cell_type": "markdown",
   "id": "44955e76-b444-4067-b2c3-693e082cd9a9",
   "metadata": {},
   "source": [
    "# Data Download"
   ]
  },
  {
   "cell_type": "markdown",
   "id": "290c61a5-ef98-4d0c-938b-1f047eec625b",
   "metadata": {},
   "source": [
    "### Imports"
   ]
  },
  {
   "cell_type": "code",
   "execution_count": 11,
   "id": "d8e08e3d-f3d2-4d99-9731-b7a0816d824b",
   "metadata": {},
   "outputs": [],
   "source": [
    "import urllib.request\n",
    "import zipfile\n",
    "import glob\n",
    "import yaml"
   ]
  },
  {
   "cell_type": "markdown",
   "id": "a38cf61c-00e6-4a79-82a3-af4ec8696942",
   "metadata": {},
   "source": [
    "### Download and extract the Marburg Open Forest (MOF) data set"
   ]
  },
  {
   "cell_type": "code",
   "execution_count": null,
   "id": "467a5309-0333-44f7-8d5d-1f17e2ac51da",
   "metadata": {},
   "outputs": [],
   "source": [
    "urllib.request.urlretrieve('<LINK>', \"MOF.zip\")"
   ]
  },
  {
   "cell_type": "code",
   "execution_count": null,
   "id": "ab17d482-c250-4253-95cc-1214beea296a",
   "metadata": {},
   "outputs": [],
   "source": [
    "with zipfile.ZipFile(\"MOF.zip\", 'r') as z:\n",
    "    z.extractall()"
   ]
  },
  {
   "cell_type": "markdown",
   "id": "7223eb19-cf4e-4c01-ab7c-6c3be2aaa303",
   "metadata": {},
   "source": [
    "### Check for Completeness"
   ]
  },
  {
   "cell_type": "code",
   "execution_count": 2,
   "id": "ad17bbdc-e7c9-46c0-b29e-4f1bf1975919",
   "metadata": {},
   "outputs": [],
   "source": [
    "imgs = glob.glob(\"img/**/*.JPG\", recursive=True)\n",
    "assert len(imgs) == 2117, f\"{2117 - len(imgs)} missing image files\""
   ]
  },
  {
   "cell_type": "code",
   "execution_count": 8,
   "id": "18005f88-a668-468b-a5e4-b91866ae910a",
   "metadata": {},
   "outputs": [],
   "source": [
    "mds = glob.glob(\"md/**/*.yaml\", recursive=True)\n",
    "assert len(mds) == 19, f\"{19 - len(mds)} missing md files\""
   ]
  },
  {
   "cell_type": "code",
   "execution_count": 12,
   "id": "caf93801-48c6-4f9e-80c7-64766a041915",
   "metadata": {},
   "outputs": [],
   "source": [
    "meta_count = 0\n",
    "for md in mds:\n",
    "    with open(md) as f:\n",
    "        meta = yaml.load(f, yaml.SafeLoader)\n",
    "        meta_count += len(meta['images'])\n",
    "assert meta_count == 2402, f\"{2402 - meta_count} missing md entries\""
   ]
  }
 ],
 "metadata": {
  "kernelspec": {
   "display_name": "Python 3",
   "language": "python",
   "name": "python3"
  },
  "language_info": {
   "codemirror_mode": {
    "name": "ipython",
    "version": 3
   },
   "file_extension": ".py",
   "mimetype": "text/x-python",
   "name": "python",
   "nbconvert_exporter": "python",
   "pygments_lexer": "ipython3",
   "version": "3.8.10"
  }
 },
 "nbformat": 4,
 "nbformat_minor": 5
}
